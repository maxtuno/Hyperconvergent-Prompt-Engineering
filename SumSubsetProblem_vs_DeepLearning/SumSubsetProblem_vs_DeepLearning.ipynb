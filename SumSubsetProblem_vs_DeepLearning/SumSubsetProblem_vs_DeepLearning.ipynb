{
 "cells": [
  {
   "cell_type": "code",
   "execution_count": 1,
   "metadata": {},
   "outputs": [
    {
     "data": {
      "text/plain": [
       "'\\nMIT License\\n\\nCopyright (c) 2023 Oscar Riveros\\n\\nPermission is hereby granted, free of charge, to any person obtaining a copy\\nof this software and associated documentation files (the \"Software\"), to deal\\nin the Software without restriction, including without limitation the rights\\nto use, copy, modify, merge, publish, distribute, sublicense, and/or sell\\ncopies of the Software, and to permit persons to whom the Software is\\nfurnished to do so, subject to the following conditions:\\n\\nThe above copyright notice and this permission notice shall be included in all\\ncopies or substantial portions of the Software.\\n\\nTHE SOFTWARE IS PROVIDED \"AS IS\", WITHOUT WARRANTY OF ANY KIND, EXPRESS OR\\nIMPLIED, INCLUDING BUT NOT LIMITED TO THE WARRANTIES OF MERCHANTABILITY,\\nFITNESS FOR A PARTICULAR PURPOSE AND NONINFRINGEMENT. IN NO EVENT SHALL THE\\nAUTHORS OR COPYRIGHT HOLDERS BE LIABLE FOR ANY CLAIM, DAMAGES OR OTHER\\nLIABILITY, WHETHER IN AN ACTION OF CONTRACT, TORT OR OTHERWISE, ARISING FROM,\\nOUT OF OR IN CONNECTION WITH THE SOFTWARE OR THE USE OR OTHER DEALINGS IN THE\\nSOFTWARE.\\n'"
      ]
     },
     "execution_count": 1,
     "metadata": {},
     "output_type": "execute_result"
    }
   ],
   "source": [
    "\"\"\"\n",
    "MIT License\n",
    "\n",
    "Copyright (c) 2023 Oscar Riveros\n",
    "\n",
    "Permission is hereby granted, free of charge, to any person obtaining a copy\n",
    "of this software and associated documentation files (the \"Software\"), to deal\n",
    "in the Software without restriction, including without limitation the rights\n",
    "to use, copy, modify, merge, publish, distribute, sublicense, and/or sell\n",
    "copies of the Software, and to permit persons to whom the Software is\n",
    "furnished to do so, subject to the following conditions:\n",
    "\n",
    "The above copyright notice and this permission notice shall be included in all\n",
    "copies or substantial portions of the Software.\n",
    "\n",
    "THE SOFTWARE IS PROVIDED \"AS IS\", WITHOUT WARRANTY OF ANY KIND, EXPRESS OR\n",
    "IMPLIED, INCLUDING BUT NOT LIMITED TO THE WARRANTIES OF MERCHANTABILITY,\n",
    "FITNESS FOR A PARTICULAR PURPOSE AND NONINFRINGEMENT. IN NO EVENT SHALL THE\n",
    "AUTHORS OR COPYRIGHT HOLDERS BE LIABLE FOR ANY CLAIM, DAMAGES OR OTHER\n",
    "LIABILITY, WHETHER IN AN ACTION OF CONTRACT, TORT OR OTHERWISE, ARISING FROM,\n",
    "OUT OF OR IN CONNECTION WITH THE SOFTWARE OR THE USE OR OTHER DEALINGS IN THE\n",
    "SOFTWARE.\n",
    "\"\"\""
   ]
  },
  {
   "cell_type": "markdown",
   "metadata": {},
   "source": [
    "### Note: There is an experimental Deep Learning Model for the Sum Subset Problem, is very limited, and only an experimental try."
   ]
  },
  {
   "cell_type": "code",
   "execution_count": 2,
   "metadata": {},
   "outputs": [
    {
     "name": "stderr",
     "output_type": "stream",
     "text": [
      "2023-09-22 11:54:25.282954: I tensorflow/tsl/cuda/cudart_stub.cc:28] Could not find cuda drivers on your machine, GPU will not be used.\n",
      "2023-09-22 11:54:25.619225: I tensorflow/tsl/cuda/cudart_stub.cc:28] Could not find cuda drivers on your machine, GPU will not be used.\n",
      "2023-09-22 11:54:25.623512: I tensorflow/core/platform/cpu_feature_guard.cc:182] This TensorFlow binary is optimized to use available CPU instructions in performance-critical operations.\n",
      "To enable the following instructions: AVX2 FMA, in other operations, rebuild TensorFlow with the appropriate compiler flags.\n",
      "2023-09-22 11:54:27.155749: W tensorflow/compiler/tf2tensorrt/utils/py_utils.cc:38] TF-TRT Warning: Could not find TensorRT\n"
     ]
    }
   ],
   "source": [
    "import tensorflow as tf\n",
    "import matplotlib.pyplot as plt\n",
    "import numpy as np\n",
    "import random\n",
    "import satx"
   ]
  },
  {
   "cell_type": "code",
   "execution_count": 3,
   "metadata": {},
   "outputs": [
    {
     "name": "stdout",
     "output_type": "stream",
     "text": [
      "Cloning into 'SLIME'...\n",
      "remote: Enumerating objects: 1552, done.\u001b[K\n",
      "remote: Counting objects: 100% (101/101), done.\u001b[K\n",
      "remote: Compressing objects: 100% (90/90), done.\u001b[K\n",
      "remote: Total 1552 (delta 54), reused 19 (delta 10), pack-reused 1451\u001b[K\n",
      "Receiving objects: 100% (1552/1552), 12.10 MiB | 12.52 MiB/s, done.\n",
      "Resolving deltas: 100% (827/827), done.\n",
      "-- Configuring done\n",
      "-- Generating done\n",
      "-- Build files have been written to: /home/maxtuno/development/hess/Hyperconvergent-Prompt-Engineering\n",
      "\u001b[35m\u001b[1mConsolidate compiler generated dependencies of target slime\u001b[0m\n",
      "[ 16%] \u001b[32mBuilding CXX object CMakeFiles/slime.dir/src/Ls.cc.o\u001b[0m\n",
      "[ 33%] \u001b[32mBuilding CXX object CMakeFiles/slime.dir/src/Main.cc.o\u001b[0m\n",
      "[ 50%] \u001b[32mBuilding CXX object CMakeFiles/slime.dir/src/Options.cc.o\u001b[0m\n",
      "[ 66%] \u001b[32mBuilding CXX object CMakeFiles/slime.dir/src/SimpSolver.cc.o\u001b[0m\n",
      "[ 83%] \u001b[32mBuilding CXX object CMakeFiles/slime.dir/src/Solver.cc.o\u001b[0m\n",
      "[100%] \u001b[32m\u001b[1mLinking CXX executable SLIME/bin/slime\u001b[0m\n",
      "[100%] Built target slime\n"
     ]
    }
   ],
   "source": [
    "# get SLIME SAT Solver (The TOP 1 in the World! :)\n",
    "!git clone https://github.com/maxtuno/SLIME\n",
    "!cmake -DCMAKE_BUILD_TYPE=Release SLIME ..\n",
    "!make\n",
    "!mv ./SLIME/bin/slime ./slime"
   ]
  },
  {
   "cell_type": "code",
   "execution_count": 4,
   "metadata": {},
   "outputs": [],
   "source": [
    "def gen_data(bits, size, context_size, number_of_samples, verbose=False):\n",
    "    input_data = []\n",
    "    output_data = []\n",
    "    if context_size < bits:\n",
    "        print('Invalid parameters...')\n",
    "        return [], []\n",
    "    while len(input_data) < number_of_samples:\n",
    "        inputs = []\n",
    "        outputs = []\n",
    "        universe =[random.randint(1, 2 ** bits) for _ in range(size)]\n",
    "        t = sum(random.sample(universe, k=size // 2))\n",
    "        if context_size > t.bit_length():\n",
    "            satx.engine(t.bit_length(), cnf_path='tmp.cnf')\n",
    "            x = satx.tensor(dimensions=(len(universe)))\n",
    "            assert sum(x[[i]](0, universe[i]) for i in range(len(universe))) == t\n",
    "            if satx.satisfy(solver='./slime'):\n",
    "                sub = [universe[i] for i in range(len(universe)) if x.binary[i]]\n",
    "                if verbose:\n",
    "                    print(universe)\n",
    "                    print(t, sum(sub), sub)\n",
    "            else:\n",
    "                if verbose:\n",
    "                    raise Exception('Infeasible ...')\n",
    "                continue\n",
    "            for number in universe + [t]:\n",
    "                i = list(map(int, bin(number)[2:]))\n",
    "                i = [0] * (context_size - len(i)) + i\n",
    "                inputs.append(i)\n",
    "            o = list(map(int, bin(x.value)[2:]))\n",
    "            o = [0] * (context_size - len(o)) + o\n",
    "            outputs += o    \n",
    "        else:\n",
    "            continue\n",
    "        input_data.append(inputs)\n",
    "        output_data.append(outputs)\n",
    "    if number_of_samples == 1:\n",
    "        return np.asarray(input_data), np.asarray(output_data), t, universe, list(map(int, x.binary))\n",
    "    return np.asarray(input_data), np.asarray(output_data)"
   ]
  },
  {
   "cell_type": "code",
   "execution_count": 5,
   "metadata": {},
   "outputs": [
    {
     "name": "stdout",
     "output_type": "stream",
     "text": [
      "[51, 180, 79, 70, 242, 206, 181, 88, 42, 99]\n",
      "741 741 [70, 242, 206, 181, 42]\n",
      "[[[0 0 0 0 0 0 1 1 0 0 1 1]\n",
      "  [0 0 0 0 1 0 1 1 0 1 0 0]\n",
      "  [0 0 0 0 0 1 0 0 1 1 1 1]\n",
      "  [0 0 0 0 0 1 0 0 0 1 1 0]\n",
      "  [0 0 0 0 1 1 1 1 0 0 1 0]\n",
      "  [0 0 0 0 1 1 0 0 1 1 1 0]\n",
      "  [0 0 0 0 1 0 1 1 0 1 0 1]\n",
      "  [0 0 0 0 0 1 0 1 1 0 0 0]\n",
      "  [0 0 0 0 0 0 1 0 1 0 1 0]\n",
      "  [0 0 0 0 0 1 1 0 0 0 1 1]\n",
      "  [0 0 1 0 1 1 1 0 0 1 0 1]]]\n",
      "[[0 0 0 1 0 1 1 1 1 0 0 0]]\n"
     ]
    }
   ],
   "source": [
    "size = 10\n",
    "bits = 8\n",
    "context_size = 12\n",
    "number_of_samples = 1\n",
    "\n",
    "# (t, universe, subset_solution) only if number_of_samples == 1\n",
    "input_data, output_data, t, universe, subset_solution = gen_data(bits, size, context_size, number_of_samples, verbose=True)\n",
    "\n",
    "print(input_data)\n",
    "print(output_data)"
   ]
  },
  {
   "cell_type": "code",
   "execution_count": 6,
   "metadata": {},
   "outputs": [],
   "source": [
    "def algorithm_learning(n, m, input_data, output_data, test_input_data, test_output_data):\n",
    "    # TODO: Put a decent model here...\n",
    "    preprocessing_layers = [\n",
    "        tf.keras.layers.InputLayer(input_shape=(m, n, 1)),\n",
    "    ]\n",
    "\n",
    "    def conv_2d_pooling_layers(filters, number_colour_layers):\n",
    "        return [\n",
    "            tf.keras.layers.Conv2D(\n",
    "                filters,\n",
    "                number_colour_layers,\n",
    "                padding='same',\n",
    "                activation='relu'\n",
    "            ),\n",
    "        ]\n",
    "\n",
    "    core_layers = \\\n",
    "        conv_2d_pooling_layers(8, 1) + \\\n",
    "        conv_2d_pooling_layers(16, 1) + \\\n",
    "        conv_2d_pooling_layers(32, 1) + \\\n",
    "        conv_2d_pooling_layers(64, 1) + \\\n",
    "        conv_2d_pooling_layers(128, 1)\n",
    "\n",
    "    dense_layers = [\n",
    "        tf.keras.layers.Flatten(),\n",
    "        tf.keras.layers.Dense(256, activation='relu'),\n",
    "        tf.keras.layers.Dense(n, activation='sigmoid')\n",
    "    ]\n",
    "\n",
    "    # Build the CNN model\n",
    "    model = tf.keras.Sequential(\n",
    "        preprocessing_layers +\n",
    "        core_layers +\n",
    "        dense_layers\n",
    "    )\n",
    "\n",
    "    checkpoint = tf.keras.callbacks.ModelCheckpoint('./checkpoints/hess_model_{}_{}'.format(n, m),\n",
    "                                                    monitor=\"val_binary_accuracy\",\n",
    "                                                    mode=\"max\",\n",
    "                                                    save_weights_only=False,\n",
    "                                                    save_best_only=True,\n",
    "                                                    verbose=1)\n",
    "    callbacks = [checkpoint]\n",
    "\n",
    "    # Compile the model\n",
    "    model.compile(optimizer=tf.keras.optimizers.Adam(),\n",
    "                  loss=tf.keras.losses.BinaryCrossentropy(from_logits=False),\n",
    "                  metrics=['binary_accuracy'])\n",
    "\n",
    "    # Train the model\n",
    "    epochs = 20\n",
    "\n",
    "    history = model.fit(input_data,\n",
    "                        output_data,\n",
    "                        validation_data=(test_input_data, test_output_data),\n",
    "                        epochs=epochs,\n",
    "                        batch_size=128,\n",
    "                        callbacks=callbacks)\n",
    "\n",
    "    # Restore the best model\n",
    "    model = tf.keras.models.load_model(\n",
    "        './checkpoints/hess_model_{}_{}'.format(n, m))\n",
    "\n",
    "    print(\"Evaluate on test data\")\n",
    "    results = model.evaluate(test_input_data, test_output_data)\n",
    "    print(\"test loss, test acc:\", results)\n",
    "\n",
    "    plt.clf()\n",
    "    plt.plot(history.history['binary_accuracy'])\n",
    "    plt.plot(history.history['val_binary_accuracy'])\n",
    "    plt.title('model accuracy')\n",
    "    plt.ylabel('accuracy')\n",
    "    plt.xlabel('epoch')\n",
    "    plt.legend(['train', 'val'], loc='upper left')\n",
    "    plt.show() # plt.savefig('acc_history.png')\n",
    "\n",
    "    plt.clf()\n",
    "    plt.plot(history.history['loss'])\n",
    "    plt.plot(history.history['val_loss'])\n",
    "    plt.title('model loss')\n",
    "    plt.ylabel('loss')\n",
    "    plt.xlabel('epoch')\n",
    "    plt.legend(['train', 'val'], loc='upper left')\n",
    "    plt.show() # savefig('loss_hystory.png')\n"
   ]
  },
  {
   "cell_type": "code",
   "execution_count": 7,
   "metadata": {},
   "outputs": [
    {
     "name": "stdout",
     "output_type": "stream",
     "text": [
      "gen data\n",
      "gen test data\n"
     ]
    }
   ],
   "source": [
    "size = 30\n",
    "bits = 8\n",
    "context_size = 100 # need a \"big\" context_size to ger good results?, but... mmm...\n",
    "number_of_samples = 50\n",
    "\n",
    "print('gen data')\n",
    "input_data, output_data = gen_data(bits, size, context_size, number_of_samples)\n",
    "\n",
    "print('gen test data')\n",
    "test_input_data, test_output_data = gen_data(bits, size, context_size, number_of_samples)"
   ]
  },
  {
   "cell_type": "code",
   "execution_count": 8,
   "metadata": {},
   "outputs": [
    {
     "name": "stderr",
     "output_type": "stream",
     "text": [
      "2023-09-22 11:55:05.223643: I tensorflow/compiler/xla/stream_executor/cuda/cuda_gpu_executor.cc:981] could not open file to read NUMA node: /sys/bus/pci/devices/0000:01:00.0/numa_node\n",
      "Your kernel may have been built without NUMA support.\n",
      "2023-09-22 11:55:05.224002: W tensorflow/core/common_runtime/gpu/gpu_device.cc:1960] Cannot dlopen some GPU libraries. Please make sure the missing libraries mentioned above are installed properly if you would like to use GPU. Follow the guide at https://www.tensorflow.org/install/gpu for how to download and setup the required libraries for your platform.\n",
      "Skipping registering GPU devices...\n"
     ]
    },
    {
     "name": "stdout",
     "output_type": "stream",
     "text": [
      "Epoch 1/20\n",
      "1/1 [==============================] - ETA: 0s - loss: 0.6936 - binary_accuracy: 0.4556\n",
      "Epoch 1: val_binary_accuracy improved from -inf to 0.75660, saving model to ./checkpoints/hess_model_100_31\n",
      "INFO:tensorflow:Assets written to: ./checkpoints/hess_model_100_31/assets\n"
     ]
    },
    {
     "name": "stderr",
     "output_type": "stream",
     "text": [
      "INFO:tensorflow:Assets written to: ./checkpoints/hess_model_100_31/assets\n"
     ]
    },
    {
     "name": "stdout",
     "output_type": "stream",
     "text": [
      "1/1 [==============================] - 15s 15s/step - loss: 0.6936 - binary_accuracy: 0.4556 - val_loss: 0.6003 - val_binary_accuracy: 0.7566\n",
      "Epoch 2/20\n",
      "1/1 [==============================] - ETA: 0s - loss: 0.5955 - binary_accuracy: 0.7732\n",
      "Epoch 2: val_binary_accuracy improved from 0.75660 to 0.77700, saving model to ./checkpoints/hess_model_100_31\n",
      "INFO:tensorflow:Assets written to: ./checkpoints/hess_model_100_31/assets\n"
     ]
    },
    {
     "name": "stderr",
     "output_type": "stream",
     "text": [
      "INFO:tensorflow:Assets written to: ./checkpoints/hess_model_100_31/assets\n"
     ]
    },
    {
     "name": "stdout",
     "output_type": "stream",
     "text": [
      "1/1 [==============================] - 17s 17s/step - loss: 0.5955 - binary_accuracy: 0.7732 - val_loss: 0.4979 - val_binary_accuracy: 0.7770\n",
      "Epoch 3/20\n",
      "1/1 [==============================] - ETA: 0s - loss: 0.4877 - binary_accuracy: 0.7960\n",
      "Epoch 3: val_binary_accuracy improved from 0.77700 to 0.81580, saving model to ./checkpoints/hess_model_100_31\n",
      "INFO:tensorflow:Assets written to: ./checkpoints/hess_model_100_31/assets\n"
     ]
    },
    {
     "name": "stderr",
     "output_type": "stream",
     "text": [
      "INFO:tensorflow:Assets written to: ./checkpoints/hess_model_100_31/assets\n"
     ]
    },
    {
     "name": "stdout",
     "output_type": "stream",
     "text": [
      "1/1 [==============================] - 10s 10s/step - loss: 0.4877 - binary_accuracy: 0.7960 - val_loss: 0.3949 - val_binary_accuracy: 0.8158\n",
      "Epoch 4/20\n",
      "1/1 [==============================] - ETA: 0s - loss: 0.3808 - binary_accuracy: 0.8404\n",
      "Epoch 4: val_binary_accuracy improved from 0.81580 to 0.84820, saving model to ./checkpoints/hess_model_100_31\n",
      "INFO:tensorflow:Assets written to: ./checkpoints/hess_model_100_31/assets\n"
     ]
    },
    {
     "name": "stderr",
     "output_type": "stream",
     "text": [
      "INFO:tensorflow:Assets written to: ./checkpoints/hess_model_100_31/assets\n"
     ]
    },
    {
     "name": "stdout",
     "output_type": "stream",
     "text": [
      "1/1 [==============================] - 12s 12s/step - loss: 0.3808 - binary_accuracy: 0.8404 - val_loss: 0.3158 - val_binary_accuracy: 0.8482\n",
      "Epoch 5/20\n",
      "1/1 [==============================] - ETA: 0s - loss: 0.2999 - binary_accuracy: 0.8618\n",
      "Epoch 5: val_binary_accuracy improved from 0.84820 to 0.84840, saving model to ./checkpoints/hess_model_100_31\n",
      "INFO:tensorflow:Assets written to: ./checkpoints/hess_model_100_31/assets\n"
     ]
    },
    {
     "name": "stderr",
     "output_type": "stream",
     "text": [
      "INFO:tensorflow:Assets written to: ./checkpoints/hess_model_100_31/assets\n"
     ]
    },
    {
     "name": "stdout",
     "output_type": "stream",
     "text": [
      "1/1 [==============================] - 17s 17s/step - loss: 0.2999 - binary_accuracy: 0.8618 - val_loss: 0.2636 - val_binary_accuracy: 0.8484\n",
      "Epoch 6/20\n",
      "1/1 [==============================] - ETA: 0s - loss: 0.2440 - binary_accuracy: 0.8610\n",
      "Epoch 6: val_binary_accuracy improved from 0.84840 to 0.85500, saving model to ./checkpoints/hess_model_100_31\n",
      "INFO:tensorflow:Assets written to: ./checkpoints/hess_model_100_31/assets\n"
     ]
    },
    {
     "name": "stderr",
     "output_type": "stream",
     "text": [
      "INFO:tensorflow:Assets written to: ./checkpoints/hess_model_100_31/assets\n"
     ]
    },
    {
     "name": "stdout",
     "output_type": "stream",
     "text": [
      "1/1 [==============================] - 13s 13s/step - loss: 0.2440 - binary_accuracy: 0.8610 - val_loss: 0.2516 - val_binary_accuracy: 0.8550\n",
      "Epoch 7/20\n",
      "1/1 [==============================] - ETA: 0s - loss: 0.2203 - binary_accuracy: 0.8748\n",
      "Epoch 7: val_binary_accuracy did not improve from 0.85500\n",
      "1/1 [==============================] - 10s 10s/step - loss: 0.2203 - binary_accuracy: 0.8748 - val_loss: 0.2381 - val_binary_accuracy: 0.8458\n",
      "Epoch 8/20\n",
      "1/1 [==============================] - ETA: 0s - loss: 0.2034 - binary_accuracy: 0.8782\n",
      "Epoch 8: val_binary_accuracy did not improve from 0.85500\n",
      "1/1 [==============================] - 2s 2s/step - loss: 0.2034 - binary_accuracy: 0.8782 - val_loss: 0.2295 - val_binary_accuracy: 0.8466\n",
      "Epoch 9/20\n",
      "1/1 [==============================] - ETA: 0s - loss: 0.1885 - binary_accuracy: 0.9038\n",
      "Epoch 9: val_binary_accuracy did not improve from 0.85500\n",
      "1/1 [==============================] - 3s 3s/step - loss: 0.1885 - binary_accuracy: 0.9038 - val_loss: 0.2314 - val_binary_accuracy: 0.8532\n",
      "Epoch 10/20\n",
      "1/1 [==============================] - ETA: 0s - loss: 0.1956 - binary_accuracy: 0.8708\n",
      "Epoch 10: val_binary_accuracy did not improve from 0.85500\n",
      "1/1 [==============================] - 2s 2s/step - loss: 0.1956 - binary_accuracy: 0.8708 - val_loss: 0.2236 - val_binary_accuracy: 0.8506\n",
      "Epoch 11/20\n",
      "1/1 [==============================] - ETA: 0s - loss: 0.1828 - binary_accuracy: 0.8894\n",
      "Epoch 11: val_binary_accuracy did not improve from 0.85500\n",
      "1/1 [==============================] - 2s 2s/step - loss: 0.1828 - binary_accuracy: 0.8894 - val_loss: 0.2154 - val_binary_accuracy: 0.8492\n",
      "Epoch 12/20\n",
      "1/1 [==============================] - ETA: 0s - loss: 0.1616 - binary_accuracy: 0.9390\n",
      "Epoch 12: val_binary_accuracy did not improve from 0.85500\n",
      "1/1 [==============================] - 2s 2s/step - loss: 0.1616 - binary_accuracy: 0.9390 - val_loss: 0.2308 - val_binary_accuracy: 0.8538\n",
      "Epoch 13/20\n",
      "1/1 [==============================] - ETA: 0s - loss: 0.1621 - binary_accuracy: 0.9240\n",
      "Epoch 13: val_binary_accuracy did not improve from 0.85500\n",
      "1/1 [==============================] - 2s 2s/step - loss: 0.1621 - binary_accuracy: 0.9240 - val_loss: 0.2417 - val_binary_accuracy: 0.8496\n",
      "Epoch 14/20\n",
      "1/1 [==============================] - ETA: 0s - loss: 0.1571 - binary_accuracy: 0.9358\n",
      "Epoch 14: val_binary_accuracy did not improve from 0.85500\n",
      "1/1 [==============================] - 3s 3s/step - loss: 0.1571 - binary_accuracy: 0.9358 - val_loss: 0.2309 - val_binary_accuracy: 0.8462\n",
      "Epoch 15/20\n",
      "1/1 [==============================] - ETA: 0s - loss: 0.1407 - binary_accuracy: 0.9494\n",
      "Epoch 15: val_binary_accuracy did not improve from 0.85500\n",
      "1/1 [==============================] - 2s 2s/step - loss: 0.1407 - binary_accuracy: 0.9494 - val_loss: 0.2182 - val_binary_accuracy: 0.8540\n",
      "Epoch 16/20\n",
      "1/1 [==============================] - ETA: 0s - loss: 0.1293 - binary_accuracy: 0.9662\n",
      "Epoch 16: val_binary_accuracy did not improve from 0.85500\n",
      "1/1 [==============================] - 3s 3s/step - loss: 0.1293 - binary_accuracy: 0.9662 - val_loss: 0.2187 - val_binary_accuracy: 0.8542\n",
      "Epoch 17/20\n",
      "1/1 [==============================] - ETA: 0s - loss: 0.1236 - binary_accuracy: 0.9622\n",
      "Epoch 17: val_binary_accuracy did not improve from 0.85500\n",
      "1/1 [==============================] - 2s 2s/step - loss: 0.1236 - binary_accuracy: 0.9622 - val_loss: 0.2242 - val_binary_accuracy: 0.8516\n",
      "Epoch 18/20\n",
      "1/1 [==============================] - ETA: 0s - loss: 0.1160 - binary_accuracy: 0.9654\n",
      "Epoch 18: val_binary_accuracy did not improve from 0.85500\n",
      "1/1 [==============================] - 3s 3s/step - loss: 0.1160 - binary_accuracy: 0.9654 - val_loss: 0.2276 - val_binary_accuracy: 0.8504\n",
      "Epoch 19/20\n",
      "1/1 [==============================] - ETA: 0s - loss: 0.1042 - binary_accuracy: 0.9758\n",
      "Epoch 19: val_binary_accuracy did not improve from 0.85500\n",
      "1/1 [==============================] - 2s 2s/step - loss: 0.1042 - binary_accuracy: 0.9758 - val_loss: 0.2327 - val_binary_accuracy: 0.8488\n",
      "Epoch 20/20\n",
      "1/1 [==============================] - ETA: 0s - loss: 0.0931 - binary_accuracy: 0.9816\n",
      "Epoch 20: val_binary_accuracy did not improve from 0.85500\n",
      "1/1 [==============================] - 2s 2s/step - loss: 0.0931 - binary_accuracy: 0.9816 - val_loss: 0.2382 - val_binary_accuracy: 0.8506\n",
      "Evaluate on test data\n",
      "2/2 [==============================] - 1s 98ms/step - loss: 0.2516 - binary_accuracy: 0.8550\n",
      "test loss, test acc: [0.2515551745891571, 0.8550000190734863]\n"
     ]
    },
    {
     "data": {
      "image/png": "[encoded data removed]",
      "text/plain": [
       "<Figure size 640x480 with 1 Axes>"
      ]
     },
     "metadata": {},
     "output_type": "display_data"
    },
    {
     "data": {
      "image/png": "[encoded data removed]",
      "text/plain": [
       "<Figure size 640x480 with 1 Axes>"
      ]
     },
     "metadata": {},
     "output_type": "display_data"
    }
   ],
   "source": [
    "algorithm_learning(context_size, size + 1, input_data, output_data, test_input_data, test_output_data)"
   ]
  },
  {
   "cell_type": "code",
   "execution_count": 9,
   "metadata": {},
   "outputs": [],
   "source": [
    "# Restore the model\n",
    "model = tf.keras.models.load_model('./checkpoints/hess_model_{}_{}'.format(context_size, size + 1))"
   ]
  },
  {
   "cell_type": "code",
   "execution_count": 10,
   "metadata": {},
   "outputs": [
    {
     "name": "stdout",
     "output_type": "stream",
     "text": [
      "[79, 143, 26, 44, 104, 104, 25, 169, 37, 87, 142, 196, 46, 120, 229, 199, 164, 130, 109, 39, 83, 9, 116, 13, 129, 232, 104, 29, 226, 251]\n",
      "1536 1536 [79, 143, 26, 44, 104, 229, 164, 9, 232, 29, 226, 251]\n",
      "[[[0 0 0 ... 1 1 1]\n",
      "  [0 0 0 ... 1 1 1]\n",
      "  [0 0 0 ... 0 1 0]\n",
      "  ...\n",
      "  [0 0 0 ... 0 1 0]\n",
      "  [0 0 0 ... 0 1 1]\n",
      "  [0 0 0 ... 0 0 0]]]\n",
      "[[0 0 0 0 0 0 0 0 0 0 0 0 0 0 0 0 0 0 0 0 0 0 0 0 0 0 0 0 0 0 0 0 0 0 0 0\n",
      "  0 0 0 0 0 0 0 0 0 0 0 0 0 0 0 0 0 0 0 0 0 0 0 0 0 0 0 0 0 0 0 0 0 0 1 1\n",
      "  1 0 1 0 0 0 1 0 0 0 0 1 0 1 0 0 0 0 0 0 0 0 0 1 1 1 1 1]]\n"
     ]
    }
   ],
   "source": [
    "number_of_samples = 1\n",
    "\n",
    "input_data, output_data, t, universe, subset_solution = gen_data(bits, size, context_size, 1, verbose=True)\n",
    "\n",
    "print(input_data)\n",
    "print(output_data)"
   ]
  },
  {
   "cell_type": "code",
   "execution_count": 11,
   "metadata": {},
   "outputs": [
    {
     "name": "stdout",
     "output_type": "stream",
     "text": [
      "1/1 [==============================] - 1s 871ms/step\n",
      "[0, 0, 0, 0, 0, 0, 0, 0, 0, 0, 0, 0, 0, 0, 0, 0, 0, 0, 0, 0, 0, 0, 0, 0, 0, 0, 0, 0, 0, 0, 0, 0, 0, 0, 0, 0, 0, 0, 0, 0, 0, 0, 0, 0, 0, 0, 0, 0, 0, 0, 0, 0, 0, 0, 0, 0, 0, 0, 0, 0, 0, 0, 0, 0, 0, 0, 0, 0, 0, 0, 0, 0, 1, 1, 0, 1, 0, 0, 0, 0, 1, 0, 1, 0, 1, 1, 0, 1, 1, 0, 1, 0, 0, 1, 1, 0, 1, 1, 1, 1]\n"
     ]
    }
   ],
   "source": [
    "prediction = model.predict(input_data)[0]\n",
    "subset_prediction = prediction > 0.5\n",
    "subset_prediction = list(map(int, subset_prediction))\n",
    "print(subset_prediction)"
   ]
  },
  {
   "cell_type": "code",
   "execution_count": 12,
   "metadata": {},
   "outputs": [
    {
     "name": "stdout",
     "output_type": "stream",
     "text": [
      "[79, 143, 26, 44, 104, 104, 25, 169, 37, 87, 142, 196, 46, 120, 229, 199, 164, 130, 109, 39, 83, 9, 116, 13, 129, 232, 104, 29, 226, 251]\n",
      "1536\n",
      "[1, 1, 1, 1, 1, 0, 0, 0, 0, 0, 0, 0, 0, 0, 1, 0, 1, 0, 0, 0, 0, 1, 0, 0, 0, 1, 0, 1, 1, 1]\n",
      "[0, 0, 1, 1, 0, 1, 0, 0, 0, 0, 1, 0, 1, 0, 1, 1, 0, 1, 1, 0, 1, 0, 0, 1, 1, 0, 1, 1, 1, 1]\n",
      "1864 1536\n",
      "gap : 328\n"
     ]
    }
   ],
   "source": [
    "print(universe)\n",
    "print(t)\n",
    "print(subset_solution)\n",
    "\n",
    "subset = subset_prediction[-len(universe):]\n",
    "\n",
    "print(subset)\n",
    "\n",
    "subset_model = [universe[i] for i in range(len(universe)) if subset[i]]\n",
    "subset_real = [universe[i] for i in range(len(universe)) if subset_solution[i]]\n",
    "\n",
    "print(sum(subset_model), sum(subset_real))\n",
    "print('gap : {}'.format(abs(sum(subset_model) - sum(subset_real))))"
   ]
  }
 ],
 "metadata": {
  "kernelspec": {
   "display_name": "Python 3",
   "language": "python",
   "name": "python3"
  },
  "language_info": {
   "codemirror_mode": {
    "name": "ipython",
    "version": 3
   },
   "file_extension": ".py",
   "mimetype": "text/x-python",
   "name": "python",
   "nbconvert_exporter": "python",
   "pygments_lexer": "ipython3",
   "version": "3.10.12"
  },
  "orig_nbformat": 4
 },
 "nbformat": 4,
 "nbformat_minor": 2
}
