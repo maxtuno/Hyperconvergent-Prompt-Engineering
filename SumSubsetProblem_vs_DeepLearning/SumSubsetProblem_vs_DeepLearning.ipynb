{
  "cells": [
    {
      "cell_type": "markdown",
      "metadata": {
        "id": "view-in-github",
        "colab_type": "text"
      },
      "source": [
        "<a href=\"https://colab.research.google.com/github/maxtuno/Hyperconvergent-Prompt-Engineering/blob/main/SumSubsetProblem_vs_DeepLearning/SumSubsetProblem_vs_DeepLearning.ipynb\" target=\"_parent\"><img src=\"https://colab.research.google.com/assets/colab-badge.svg\" alt=\"Open In Colab\"/></a>"
      ]
    },
    {
      "cell_type": "code",
      "execution_count": 1,
      "metadata": {
        "id": "j-Js7TdDfzCf",
        "outputId": "cf269694-6f1b-42fe-c4de-8fde4f062f8c",
        "colab": {
          "base_uri": "https://localhost:8080/",
          "height": 105
        }
      },
      "outputs": [
        {
          "output_type": "execute_result",
          "data": {
            "text/plain": [
              "'\\nMIT License\\n\\nCopyright (c) 2023 Oscar Riveros\\n\\nPermission is hereby granted, free of charge, to any person obtaining a copy\\nof this software and associated documentation files (the \"Software\"), to deal\\nin the Software without restriction, including without limitation the rights\\nto use, copy, modify, merge, publish, distribute, sublicense, and/or sell\\ncopies of the Software, and to permit persons to whom the Software is\\nfurnished to do so, subject to the following conditions:\\n\\nThe above copyright notice and this permission notice shall be included in all\\ncopies or substantial portions of the Software.\\n\\nTHE SOFTWARE IS PROVIDED \"AS IS\", WITHOUT WARRANTY OF ANY KIND, EXPRESS OR\\nIMPLIED, INCLUDING BUT NOT LIMITED TO THE WARRANTIES OF MERCHANTABILITY,\\nFITNESS FOR A PARTICULAR PURPOSE AND NONINFRINGEMENT. IN NO EVENT SHALL THE\\nAUTHORS OR COPYRIGHT HOLDERS BE LIABLE FOR ANY CLAIM, DAMAGES OR OTHER\\nLIABILITY, WHETHER IN AN ACTION OF CONTRACT, TORT OR OTHERWISE, ARISING FROM,\\nOUT OF OR IN CONNECTION WITH THE SOFTWARE OR THE USE OR OTHER DEALINGS IN THE\\nSOFTWARE.\\n'"
            ],
            "application/vnd.google.colaboratory.intrinsic+json": {
              "type": "string"
            }
          },
          "metadata": {},
          "execution_count": 1
        }
      ],
      "source": [
        "\"\"\"\n",
        "MIT License\n",
        "\n",
        "Copyright (c) 2023 Oscar Riveros\n",
        "\n",
        "Permission is hereby granted, free of charge, to any person obtaining a copy\n",
        "of this software and associated documentation files (the \"Software\"), to deal\n",
        "in the Software without restriction, including without limitation the rights\n",
        "to use, copy, modify, merge, publish, distribute, sublicense, and/or sell\n",
        "copies of the Software, and to permit persons to whom the Software is\n",
        "furnished to do so, subject to the following conditions:\n",
        "\n",
        "The above copyright notice and this permission notice shall be included in all\n",
        "copies or substantial portions of the Software.\n",
        "\n",
        "THE SOFTWARE IS PROVIDED \"AS IS\", WITHOUT WARRANTY OF ANY KIND, EXPRESS OR\n",
        "IMPLIED, INCLUDING BUT NOT LIMITED TO THE WARRANTIES OF MERCHANTABILITY,\n",
        "FITNESS FOR A PARTICULAR PURPOSE AND NONINFRINGEMENT. IN NO EVENT SHALL THE\n",
        "AUTHORS OR COPYRIGHT HOLDERS BE LIABLE FOR ANY CLAIM, DAMAGES OR OTHER\n",
        "LIABILITY, WHETHER IN AN ACTION OF CONTRACT, TORT OR OTHERWISE, ARISING FROM,\n",
        "OUT OF OR IN CONNECTION WITH THE SOFTWARE OR THE USE OR OTHER DEALINGS IN THE\n",
        "SOFTWARE.\n",
        "\"\"\""
      ]
    },
    {
      "cell_type": "markdown",
      "metadata": {
        "id": "zE73F6W2fzCi"
      },
      "source": [
        "### Note: There is an experimental Deep Learning Model for the Sum Subset Problem, is very limited, and only an experimental try."
      ]
    },
    {
      "cell_type": "code",
      "execution_count": 2,
      "metadata": {
        "id": "HUlG7ak_fzCj",
        "outputId": "c7ce778a-aaa3-41cb-c83a-21998aa78697",
        "colab": {
          "base_uri": "https://localhost:8080/"
        }
      },
      "outputs": [
        {
          "output_type": "stream",
          "name": "stdout",
          "text": [
            "Collecting satx\n",
            "  Downloading SATX-0.3.8.tar.gz (16 kB)\n",
            "  Preparing metadata (setup.py) ... \u001b[?25l\u001b[?25hdone\n",
            "Building wheels for collected packages: satx\n",
            "  Building wheel for satx (setup.py) ... \u001b[?25l\u001b[?25hdone\n",
            "  Created wheel for satx: filename=SATX-0.3.8-py3-none-any.whl size=19743 sha256=b8f27de9c00d2984677ff8688761aea283002dc31e58368e3096350836a10964\n",
            "  Stored in directory: /root/.cache/pip/wheels/6b/c8/9d/ee69811c08ba210630764133757e459a2d8dcf7729e9ab04c9\n",
            "Successfully built satx\n",
            "Installing collected packages: satx\n",
            "Successfully installed satx-0.3.8\n",
            "Cloning into 'SLIME'...\n",
            "remote: Enumerating objects: 1552, done.\u001b[K\n",
            "remote: Counting objects: 100% (101/101), done.\u001b[K\n",
            "remote: Compressing objects: 100% (90/90), done.\u001b[K\n",
            "remote: Total 1552 (delta 54), reused 19 (delta 10), pack-reused 1451\u001b[K\n",
            "Receiving objects: 100% (1552/1552), 12.10 MiB | 14.82 MiB/s, done.\n",
            "Resolving deltas: 100% (827/827), done.\n",
            "\u001b[0mCMake Deprecation Warning at CMakeLists.txt:1 (cmake_minimum_required):\n",
            "  Compatibility with CMake < 3.5 will be removed from a future version of\n",
            "  CMake.\n",
            "\n",
            "  Update the VERSION argument <min> value or use a ...<max> suffix to tell\n",
            "  CMake that the project does not need compatibility with older versions.\n",
            "\n",
            "\u001b[0m\n",
            "-- The C compiler identification is GNU 11.4.0\n",
            "-- The CXX compiler identification is GNU 11.4.0\n",
            "-- Detecting C compiler ABI info\n",
            "-- Detecting C compiler ABI info - done\n",
            "-- Check for working C compiler: /usr/bin/cc - skipped\n",
            "-- Detecting C compile features\n",
            "-- Detecting C compile features - done\n",
            "-- Detecting CXX compiler ABI info\n",
            "-- Detecting CXX compiler ABI info - done\n",
            "-- Check for working CXX compiler: /usr/bin/c++ - skipped\n",
            "-- Detecting CXX compile features\n",
            "-- Detecting CXX compile features - done\n",
            "-- Configuring done (1.0s)\n",
            "-- Generating done (0.0s)\n",
            "-- Build files have been written to: /content\n",
            "[ 16%] \u001b[32mBuilding CXX object CMakeFiles/slime.dir/src/Ls.cc.o\u001b[0m\n",
            "[ 33%] \u001b[32mBuilding CXX object CMakeFiles/slime.dir/src/Main.cc.o\u001b[0m\n",
            "[ 50%] \u001b[32mBuilding CXX object CMakeFiles/slime.dir/src/Options.cc.o\u001b[0m\n",
            "[ 66%] \u001b[32mBuilding CXX object CMakeFiles/slime.dir/src/SimpSolver.cc.o\u001b[0m\n",
            "[ 83%] \u001b[32mBuilding CXX object CMakeFiles/slime.dir/src/Solver.cc.o\u001b[0m\n",
            "[100%] \u001b[32m\u001b[1mLinking CXX executable /content/SLIME/bin/slime\u001b[0m\n",
            "[100%] Built target slime\n"
          ]
        }
      ],
      "source": [
        "# get SATX library (The TOP 1 in the World! :)\n",
        "!pip install satx\n",
        "# get SLIME SAT Solver (The TOP 1 in the World! :D\n",
        "!git clone https://github.com/maxtuno/SLIME\n",
        "!cmake -DCMAKE_BUILD_TYPE=Release SLIME\n",
        "!make\n",
        "!mv ./SLIME/bin/slime ./slime"
      ]
    },
    {
      "cell_type": "code",
      "execution_count": 3,
      "metadata": {
        "id": "bH4FWAAifzCk"
      },
      "outputs": [],
      "source": [
        "import tensorflow as tf\n",
        "import matplotlib.pyplot as plt\n",
        "import numpy as np\n",
        "import random\n",
        "import satx"
      ]
    },
    {
      "cell_type": "code",
      "execution_count": 4,
      "metadata": {
        "id": "tLxFo-eofzCk"
      },
      "outputs": [],
      "source": [
        "def gen_data(bits, size, context_size, number_of_samples, verbose=False):\n",
        "    input_data = []\n",
        "    output_data = []\n",
        "    if context_size < bits:\n",
        "        print('Invalid parameters...')\n",
        "        return [], []\n",
        "    while len(input_data) < number_of_samples:\n",
        "        inputs = []\n",
        "        outputs = []\n",
        "        universe =[random.randint(1, 2 ** bits) for _ in range(size)]\n",
        "        t = sum(random.sample(universe, k=size // 2))\n",
        "        if context_size > t.bit_length():\n",
        "            satx.engine(t.bit_length(), cnf_path='tmp.cnf')\n",
        "            x = satx.tensor(dimensions=(len(universe)))\n",
        "            assert sum(x[[i]](0, universe[i]) for i in range(len(universe))) == t\n",
        "            if satx.satisfy(solver='./slime'):\n",
        "                sub = [universe[i] for i in range(len(universe)) if x.binary[i]]\n",
        "                if verbose:\n",
        "                    print(universe)\n",
        "                    print(t, sum(sub), sub)\n",
        "            else:\n",
        "                if verbose:\n",
        "                    raise Exception('Infeasible ...')\n",
        "                continue\n",
        "            for number in universe + [t]:\n",
        "                i = list(map(int, bin(number)[2:]))\n",
        "                i = [0] * (context_size - len(i)) + i\n",
        "                inputs.append(i)\n",
        "            o = list(map(int, bin(x.value)[2:]))\n",
        "            o = [0] * (context_size - len(o)) + o\n",
        "            outputs += o\n",
        "        else:\n",
        "            continue\n",
        "        input_data.append(inputs)\n",
        "        output_data.append(outputs)\n",
        "    if number_of_samples == 1:\n",
        "        return np.asarray(input_data), np.asarray(output_data), t, universe, list(map(int, x.binary))\n",
        "    return np.asarray(input_data), np.asarray(output_data)"
      ]
    },
    {
      "cell_type": "code",
      "execution_count": 5,
      "metadata": {
        "id": "sftiopN-fzCk",
        "outputId": "21abd0ea-4c05-4aa2-9e91-af0557ce4a6d",
        "colab": {
          "base_uri": "https://localhost:8080/"
        }
      },
      "outputs": [
        {
          "output_type": "stream",
          "name": "stdout",
          "text": [
            "[145, 172, 107, 127, 213, 48, 12, 1, 205, 94]\n",
            "373 373 [172, 107, 94]\n",
            "[[[0 0 0 0 1 0 0 1 0 0 0 1]\n",
            "  [0 0 0 0 1 0 1 0 1 1 0 0]\n",
            "  [0 0 0 0 0 1 1 0 1 0 1 1]\n",
            "  [0 0 0 0 0 1 1 1 1 1 1 1]\n",
            "  [0 0 0 0 1 1 0 1 0 1 0 1]\n",
            "  [0 0 0 0 0 0 1 1 0 0 0 0]\n",
            "  [0 0 0 0 0 0 0 0 1 1 0 0]\n",
            "  [0 0 0 0 0 0 0 0 0 0 0 1]\n",
            "  [0 0 0 0 1 1 0 0 1 1 0 1]\n",
            "  [0 0 0 0 0 1 0 1 1 1 1 0]\n",
            "  [0 0 0 1 0 1 1 1 0 1 0 1]]]\n",
            "[[0 0 1 0 0 0 0 0 0 1 1 0]]\n"
          ]
        }
      ],
      "source": [
        "size = 10\n",
        "bits = 8\n",
        "context_size = 12\n",
        "number_of_samples = 1\n",
        "\n",
        "# (t, universe, subset_solution) only if number_of_samples == 1\n",
        "input_data, output_data, t, universe, subset_solution = gen_data(bits, size, context_size, number_of_samples, verbose=True)\n",
        "\n",
        "print(input_data)\n",
        "print(output_data)"
      ]
    },
    {
      "cell_type": "code",
      "execution_count": 6,
      "metadata": {
        "id": "Q4PkO_q3fzCl"
      },
      "outputs": [],
      "source": [
        "def algorithm_learning(n, m, input_data, output_data, test_input_data, test_output_data):\n",
        "    # TODO: Put a decent model here...\n",
        "    preprocessing_layers = [\n",
        "        tf.keras.layers.InputLayer(input_shape=(m, n, 1)),\n",
        "    ]\n",
        "\n",
        "    def conv_2d_pooling_layers(filters, number_colour_layers):\n",
        "        return [\n",
        "            tf.keras.layers.Conv2D(\n",
        "                filters,\n",
        "                number_colour_layers,\n",
        "                padding='same',\n",
        "                activation='relu'\n",
        "            ),\n",
        "        ]\n",
        "\n",
        "    core_layers = \\\n",
        "        conv_2d_pooling_layers(8, 1) + \\\n",
        "        conv_2d_pooling_layers(16, 1) + \\\n",
        "        conv_2d_pooling_layers(32, 1) + \\\n",
        "        conv_2d_pooling_layers(64, 1) + \\\n",
        "        conv_2d_pooling_layers(128, 1)\n",
        "\n",
        "    dense_layers = [\n",
        "        tf.keras.layers.Flatten(),\n",
        "        tf.keras.layers.Dense(256, activation='relu'),\n",
        "        tf.keras.layers.Dense(n, activation='sigmoid')\n",
        "    ]\n",
        "\n",
        "    # Build the CNN model\n",
        "    model = tf.keras.Sequential(\n",
        "        preprocessing_layers +\n",
        "        core_layers +\n",
        "        dense_layers\n",
        "    )\n",
        "\n",
        "    checkpoint = tf.keras.callbacks.ModelCheckpoint('./checkpoints/hess_model_{}_{}'.format(n, m),\n",
        "                                                    monitor=\"val_binary_accuracy\",\n",
        "                                                    mode=\"max\",\n",
        "                                                    save_weights_only=False,\n",
        "                                                    save_best_only=True,\n",
        "                                                    verbose=1)\n",
        "    callbacks = [checkpoint]\n",
        "\n",
        "    # Compile the model\n",
        "    model.compile(optimizer=tf.keras.optimizers.Adam(),\n",
        "                  loss=tf.keras.losses.BinaryCrossentropy(from_logits=False),\n",
        "                  metrics=['binary_accuracy'])\n",
        "\n",
        "    # Train the model\n",
        "    epochs = 20\n",
        "\n",
        "    history = model.fit(input_data,\n",
        "                        output_data,\n",
        "                        validation_data=(test_input_data, test_output_data),\n",
        "                        epochs=epochs,\n",
        "                        batch_size=128,\n",
        "                        callbacks=callbacks)\n",
        "\n",
        "    # Restore the best model\n",
        "    model = tf.keras.models.load_model(\n",
        "        './checkpoints/hess_model_{}_{}'.format(n, m))\n",
        "\n",
        "    print(\"Evaluate on test data\")\n",
        "    results = model.evaluate(test_input_data, test_output_data)\n",
        "    print(\"test loss, test acc:\", results)\n",
        "\n",
        "    plt.clf()\n",
        "    plt.plot(history.history['binary_accuracy'])\n",
        "    plt.plot(history.history['val_binary_accuracy'])\n",
        "    plt.title('model accuracy')\n",
        "    plt.ylabel('accuracy')\n",
        "    plt.xlabel('epoch')\n",
        "    plt.legend(['train', 'val'], loc='upper left')\n",
        "    plt.show() # plt.savefig('acc_history.png')\n",
        "\n",
        "    plt.clf()\n",
        "    plt.plot(history.history['loss'])\n",
        "    plt.plot(history.history['val_loss'])\n",
        "    plt.title('model loss')\n",
        "    plt.ylabel('loss')\n",
        "    plt.xlabel('epoch')\n",
        "    plt.legend(['train', 'val'], loc='upper left')\n",
        "    plt.show() # savefig('loss_hystory.png')\n"
      ]
    },
    {
      "cell_type": "code",
      "execution_count": 7,
      "metadata": {
        "id": "wOryxknafzCl",
        "outputId": "f2b63e33-fdd6-4faf-b7de-aedabbfc4d6f",
        "colab": {
          "base_uri": "https://localhost:8080/"
        }
      },
      "outputs": [
        {
          "output_type": "stream",
          "name": "stdout",
          "text": [
            "gen data\n",
            "gen test data\n"
          ]
        }
      ],
      "source": [
        "size = 30\n",
        "bits = 8\n",
        "context_size = 100 # need a \"big\" context_size to get good results?, but... mmm...\n",
        "number_of_samples = 50\n",
        "\n",
        "print('gen data')\n",
        "input_data, output_data = gen_data(bits, size, context_size, number_of_samples)\n",
        "\n",
        "print('gen test data')\n",
        "test_input_data, test_output_data = gen_data(bits, size, context_size, number_of_samples)"
      ]
    },
    {
      "cell_type": "code",
      "execution_count": 8,
      "metadata": {
        "id": "istZnkjOfzCl",
        "outputId": "55ee5cd4-9538-45db-8379-3bc9026dc0f5",
        "colab": {
          "base_uri": "https://localhost:8080/",
          "height": 1000
        }
      },
      "outputs": [
        {
          "output_type": "stream",
          "name": "stdout",
          "text": [
            "Epoch 1/20\n",
            "1/1 [==============================] - ETA: 0s - loss: 0.6931 - binary_accuracy: 0.5016\n",
            "Epoch 1: val_binary_accuracy improved from -inf to 0.78860, saving model to ./checkpoints/hess_model_100_31\n",
            "1/1 [==============================] - 23s 23s/step - loss: 0.6931 - binary_accuracy: 0.5016 - val_loss: 0.6122 - val_binary_accuracy: 0.7886\n",
            "Epoch 2/20\n",
            "1/1 [==============================] - ETA: 0s - loss: 0.6078 - binary_accuracy: 0.7926\n",
            "Epoch 2: val_binary_accuracy improved from 0.78860 to 0.83420, saving model to ./checkpoints/hess_model_100_31\n",
            "1/1 [==============================] - 7s 7s/step - loss: 0.6078 - binary_accuracy: 0.7926 - val_loss: 0.4915 - val_binary_accuracy: 0.8342\n",
            "Epoch 3/20\n",
            "1/1 [==============================] - ETA: 0s - loss: 0.4810 - binary_accuracy: 0.8432\n",
            "Epoch 3: val_binary_accuracy improved from 0.83420 to 0.84380, saving model to ./checkpoints/hess_model_100_31\n",
            "1/1 [==============================] - 7s 7s/step - loss: 0.4810 - binary_accuracy: 0.8432 - val_loss: 0.3670 - val_binary_accuracy: 0.8438\n",
            "Epoch 4/20\n",
            "1/1 [==============================] - ETA: 0s - loss: 0.3508 - binary_accuracy: 0.8562\n",
            "Epoch 4: val_binary_accuracy improved from 0.84380 to 0.85520, saving model to ./checkpoints/hess_model_100_31\n",
            "1/1 [==============================] - 8s 8s/step - loss: 0.3508 - binary_accuracy: 0.8562 - val_loss: 0.2813 - val_binary_accuracy: 0.8552\n",
            "Epoch 5/20\n",
            "1/1 [==============================] - ETA: 0s - loss: 0.2609 - binary_accuracy: 0.8712\n",
            "Epoch 5: val_binary_accuracy did not improve from 0.85520\n",
            "1/1 [==============================] - 0s 90ms/step - loss: 0.2609 - binary_accuracy: 0.8712 - val_loss: 0.2460 - val_binary_accuracy: 0.8492\n",
            "Epoch 6/20\n",
            "1/1 [==============================] - ETA: 0s - loss: 0.2234 - binary_accuracy: 0.8718\n",
            "Epoch 6: val_binary_accuracy improved from 0.85520 to 0.86000, saving model to ./checkpoints/hess_model_100_31\n",
            "1/1 [==============================] - 17s 17s/step - loss: 0.2234 - binary_accuracy: 0.8718 - val_loss: 0.2212 - val_binary_accuracy: 0.8600\n",
            "Epoch 7/20\n",
            "1/1 [==============================] - ETA: 0s - loss: 0.2079 - binary_accuracy: 0.8794\n",
            "Epoch 7: val_binary_accuracy did not improve from 0.86000\n",
            "1/1 [==============================] - 0s 93ms/step - loss: 0.2079 - binary_accuracy: 0.8794 - val_loss: 0.2230 - val_binary_accuracy: 0.8554\n",
            "Epoch 8/20\n",
            "1/1 [==============================] - ETA: 0s - loss: 0.2112 - binary_accuracy: 0.8750\n",
            "Epoch 8: val_binary_accuracy did not improve from 0.86000\n",
            "1/1 [==============================] - 0s 91ms/step - loss: 0.2112 - binary_accuracy: 0.8750 - val_loss: 0.2266 - val_binary_accuracy: 0.8486\n",
            "Epoch 9/20\n",
            "1/1 [==============================] - ETA: 0s - loss: 0.2063 - binary_accuracy: 0.8722\n",
            "Epoch 9: val_binary_accuracy did not improve from 0.86000\n",
            "1/1 [==============================] - 0s 86ms/step - loss: 0.2063 - binary_accuracy: 0.8722 - val_loss: 0.2278 - val_binary_accuracy: 0.8528\n",
            "Epoch 10/20\n",
            "1/1 [==============================] - ETA: 0s - loss: 0.1989 - binary_accuracy: 0.8994\n",
            "Epoch 10: val_binary_accuracy did not improve from 0.86000\n",
            "1/1 [==============================] - 0s 93ms/step - loss: 0.1989 - binary_accuracy: 0.8994 - val_loss: 0.2312 - val_binary_accuracy: 0.8500\n",
            "Epoch 11/20\n",
            "1/1 [==============================] - ETA: 0s - loss: 0.1935 - binary_accuracy: 0.8804\n",
            "Epoch 11: val_binary_accuracy did not improve from 0.86000\n",
            "1/1 [==============================] - 0s 78ms/step - loss: 0.1935 - binary_accuracy: 0.8804 - val_loss: 0.2307 - val_binary_accuracy: 0.8600\n",
            "Epoch 12/20\n",
            "1/1 [==============================] - ETA: 0s - loss: 0.1928 - binary_accuracy: 0.8870\n",
            "Epoch 12: val_binary_accuracy improved from 0.86000 to 0.86040, saving model to ./checkpoints/hess_model_100_31\n",
            "1/1 [==============================] - 6s 6s/step - loss: 0.1928 - binary_accuracy: 0.8870 - val_loss: 0.2182 - val_binary_accuracy: 0.8604\n",
            "Epoch 13/20\n",
            "1/1 [==============================] - ETA: 0s - loss: 0.1808 - binary_accuracy: 0.9142\n",
            "Epoch 13: val_binary_accuracy did not improve from 0.86040\n",
            "1/1 [==============================] - 0s 91ms/step - loss: 0.1808 - binary_accuracy: 0.9142 - val_loss: 0.2186 - val_binary_accuracy: 0.8556\n",
            "Epoch 14/20\n",
            "1/1 [==============================] - ETA: 0s - loss: 0.1749 - binary_accuracy: 0.9076\n",
            "Epoch 14: val_binary_accuracy did not improve from 0.86040\n",
            "1/1 [==============================] - 0s 88ms/step - loss: 0.1749 - binary_accuracy: 0.9076 - val_loss: 0.2245 - val_binary_accuracy: 0.8518\n",
            "Epoch 15/20\n",
            "1/1 [==============================] - ETA: 0s - loss: 0.1719 - binary_accuracy: 0.9026\n",
            "Epoch 15: val_binary_accuracy did not improve from 0.86040\n",
            "1/1 [==============================] - 0s 95ms/step - loss: 0.1719 - binary_accuracy: 0.9026 - val_loss: 0.2233 - val_binary_accuracy: 0.8502\n",
            "Epoch 16/20\n",
            "1/1 [==============================] - ETA: 0s - loss: 0.1636 - binary_accuracy: 0.9224\n",
            "Epoch 16: val_binary_accuracy did not improve from 0.86040\n",
            "1/1 [==============================] - 0s 84ms/step - loss: 0.1636 - binary_accuracy: 0.9224 - val_loss: 0.2176 - val_binary_accuracy: 0.8546\n",
            "Epoch 17/20\n",
            "1/1 [==============================] - ETA: 0s - loss: 0.1540 - binary_accuracy: 0.9416\n",
            "Epoch 17: val_binary_accuracy did not improve from 0.86040\n",
            "1/1 [==============================] - 0s 79ms/step - loss: 0.1540 - binary_accuracy: 0.9416 - val_loss: 0.2217 - val_binary_accuracy: 0.8578\n",
            "Epoch 18/20\n",
            "1/1 [==============================] - ETA: 0s - loss: 0.1501 - binary_accuracy: 0.9400\n",
            "Epoch 18: val_binary_accuracy did not improve from 0.86040\n",
            "1/1 [==============================] - 0s 79ms/step - loss: 0.1501 - binary_accuracy: 0.9400 - val_loss: 0.2241 - val_binary_accuracy: 0.8558\n",
            "Epoch 19/20\n",
            "1/1 [==============================] - ETA: 0s - loss: 0.1419 - binary_accuracy: 0.9532\n",
            "Epoch 19: val_binary_accuracy did not improve from 0.86040\n",
            "1/1 [==============================] - 0s 91ms/step - loss: 0.1419 - binary_accuracy: 0.9532 - val_loss: 0.2233 - val_binary_accuracy: 0.8484\n",
            "Epoch 20/20\n",
            "1/1 [==============================] - ETA: 0s - loss: 0.1335 - binary_accuracy: 0.9578\n",
            "Epoch 20: val_binary_accuracy did not improve from 0.86040\n",
            "1/1 [==============================] - 0s 77ms/step - loss: 0.1335 - binary_accuracy: 0.9578 - val_loss: 0.2196 - val_binary_accuracy: 0.8506\n",
            "Evaluate on test data\n",
            "2/2 [==============================] - 1s 150ms/step - loss: 0.2182 - binary_accuracy: 0.8604\n",
            "test loss, test acc: [0.21815717220306396, 0.8604000210762024]\n"
          ]
        },
        {
          "output_type": "display_data",
          "data": {
            "text/plain": [
              "<Figure size 640x480 with 1 Axes>"
            ],
            "image/png": "[encoded data removed]"
          },
          "metadata": {}
        },
        {
          "output_type": "display_data",
          "data": {
            "text/plain": [
              "<Figure size 640x480 with 1 Axes>"
            ],
            "image/png": "[encoded data removed]"
          },
          "metadata": {}
        }
      ],
      "source": [
        "algorithm_learning(context_size, size + 1, input_data, output_data, test_input_data, test_output_data)"
      ]
    },
    {
      "cell_type": "code",
      "execution_count": 9,
      "metadata": {
        "id": "CewjgLGRfzCm"
      },
      "outputs": [],
      "source": [
        "# Restore the model\n",
        "model = tf.keras.models.load_model('./checkpoints/hess_model_{}_{}'.format(context_size, size + 1))"
      ]
    },
    {
      "cell_type": "code",
      "execution_count": 28,
      "metadata": {
        "id": "nkl47pdMfzCm",
        "outputId": "d1643fc6-7f12-4d88-d39e-44b6c53d3eb8",
        "colab": {
          "base_uri": "https://localhost:8080/"
        }
      },
      "outputs": [
        {
          "output_type": "stream",
          "name": "stdout",
          "text": [
            "[141, 151, 239, 136, 67, 32, 97, 167, 184, 190, 16, 110, 9, 60, 223, 27, 204, 76, 94, 117, 181, 206, 221, 100, 222, 50, 206, 3, 61, 182]\n",
            "1867 1867 [141, 151, 67, 32, 97, 184, 190, 110, 60, 27, 204, 76, 94, 117, 206, 50, 61]\n",
            "[[[0 0 0 ... 1 0 1]\n",
            "  [0 0 0 ... 1 1 1]\n",
            "  [0 0 0 ... 1 1 1]\n",
            "  ...\n",
            "  [0 0 0 ... 1 0 1]\n",
            "  [0 0 0 ... 1 1 0]\n",
            "  [0 0 0 ... 0 1 1]]]\n",
            "[[0 0 0 0 0 0 0 0 0 0 0 0 0 0 0 0 0 0 0 0 0 0 0 0 0 0 0 0 0 0 0 0 0 0 0 0\n",
            "  0 0 0 0 0 0 0 0 0 0 0 0 0 0 0 0 0 0 0 0 0 0 0 0 0 0 0 0 0 0 0 0 0 0 0 1\n",
            "  0 0 1 0 0 0 1 0 1 1 1 1 1 0 1 0 1 0 1 1 0 1 1 1 0 0 1 1]]\n"
          ]
        }
      ],
      "source": [
        "number_of_samples = 1\n",
        "\n",
        "input_data, output_data, t, universe, subset_solution = gen_data(bits, size, context_size, 1, verbose=True)\n",
        "\n",
        "print(input_data)\n",
        "print(output_data)"
      ]
    },
    {
      "cell_type": "code",
      "execution_count": 29,
      "metadata": {
        "id": "ReLKTpmvfzCm",
        "outputId": "820a5c0a-7c4e-4c25-be43-9f8601eb7161",
        "colab": {
          "base_uri": "https://localhost:8080/"
        }
      },
      "outputs": [
        {
          "output_type": "stream",
          "name": "stdout",
          "text": [
            "1/1 [==============================] - 0s 20ms/step\n",
            "[0, 0, 0, 0, 0, 0, 0, 0, 0, 0, 0, 0, 0, 0, 0, 0, 0, 0, 0, 0, 0, 0, 0, 0, 0, 0, 0, 0, 0, 0, 0, 0, 0, 0, 0, 0, 0, 0, 0, 0, 0, 0, 0, 0, 0, 0, 0, 0, 0, 0, 0, 0, 0, 0, 0, 0, 0, 0, 0, 0, 0, 0, 0, 0, 0, 0, 0, 0, 0, 0, 1, 0, 1, 0, 0, 1, 0, 0, 1, 0, 1, 0, 0, 0, 1, 0, 0, 0, 0, 0, 0, 0, 1, 0, 1, 1, 1, 1, 1, 1]\n"
          ]
        }
      ],
      "source": [
        "prediction = model.predict(input_data)[0]\n",
        "subset_prediction = prediction > 0.5\n",
        "subset_prediction = list(map(int, subset_prediction))\n",
        "print(subset_prediction)"
      ]
    },
    {
      "cell_type": "code",
      "execution_count": 30,
      "metadata": {
        "id": "eJvycOKGfzCm",
        "outputId": "e08b1128-620f-487e-a857-c4c7c0e17063",
        "colab": {
          "base_uri": "https://localhost:8080/"
        }
      },
      "outputs": [
        {
          "output_type": "stream",
          "name": "stdout",
          "text": [
            "[141, 151, 239, 136, 67, 32, 97, 167, 184, 190, 16, 110, 9, 60, 223, 27, 204, 76, 94, 117, 181, 206, 221, 100, 222, 50, 206, 3, 61, 182]\n",
            "1867\n",
            "[1, 1, 0, 0, 1, 1, 1, 0, 1, 1, 0, 1, 0, 1, 0, 1, 1, 1, 1, 1, 0, 1, 0, 0, 0, 1, 0, 0, 1, 0]\n",
            "[1, 0, 1, 0, 0, 1, 0, 0, 1, 0, 1, 0, 0, 0, 1, 0, 0, 0, 0, 0, 0, 0, 1, 0, 1, 1, 1, 1, 1, 1]\n",
            "1780 1867\n",
            "gap : 87\n"
          ]
        }
      ],
      "source": [
        "print(universe)\n",
        "print(t)\n",
        "print(subset_solution)\n",
        "\n",
        "subset = subset_prediction[-len(universe):]\n",
        "\n",
        "print(subset)\n",
        "\n",
        "subset_model = [universe[i] for i in range(len(universe)) if subset[i]]\n",
        "subset_real = [universe[i] for i in range(len(universe)) if subset_solution[i]]\n",
        "\n",
        "print(sum(subset_model), sum(subset_real))\n",
        "print('gap : {}'.format(abs(sum(subset_model) - sum(subset_real))))"
      ]
    },
    {
      "cell_type": "code",
      "source": [],
      "metadata": {
        "id": "Obd8IZsRhVoj"
      },
      "execution_count": 12,
      "outputs": []
    }
  ],
  "metadata": {
    "kernelspec": {
      "display_name": "Python 3",
      "name": "python3"
    },
    "language_info": {
      "codemirror_mode": {
        "name": "ipython",
        "version": 3
      },
      "file_extension": ".py",
      "mimetype": "text/x-python",
      "name": "python",
      "nbconvert_exporter": "python",
      "pygments_lexer": "ipython3",
      "version": "3.10.12"
    },
    "orig_nbformat": 4,
    "colab": {
      "provenance": [],
      "gpuType": "T4",
      "include_colab_link": true
    },
    "accelerator": "GPU"
  },
  "nbformat": 4,
  "nbformat_minor": 0
}